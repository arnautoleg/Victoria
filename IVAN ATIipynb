{
  "nbformat": 4,
  "nbformat_minor": 0,
  "metadata": {
    "colab": {
      "provenance": [],
      "authorship_tag": "ABX9TyPqa24KFQ2gLWvKs1NHE+7+",
      "include_colab_link": true
    },
    "kernelspec": {
      "name": "python3",
      "display_name": "Python 3"
    },
    "language_info": {
      "name": "python"
    }
  },
  "cells": [
    {
      "cell_type": "markdown",
      "metadata": {
        "id": "view-in-github",
        "colab_type": "text"
      },
      "source": [
        "<a href=\"https://colab.research.google.com/github/arnautoleg/Victoria/blob/main/IVAN%20ATIipynb\" target=\"_parent\"><img src=\"https://colab.research.google.com/assets/colab-badge.svg\" alt=\"Open In Colab\"/></a>"
      ]
    },
    {
      "cell_type": "code",
      "execution_count": 9,
      "metadata": {
        "id": "K0l7kTUuxH5b"
      },
      "outputs": [],
      "source": [
        "import pandas as pd"
      ]
    },
    {
      "cell_type": "code",
      "source": [
        "df = pd.read_excel(\"/content/Tabel Pacienti COVID-19 varianta Arnaut.xlsx\")"
      ],
      "metadata": {
        "id": "GCIzuoZtxRUH"
      },
      "execution_count": 10,
      "outputs": []
    },
    {
      "cell_type": "code",
      "source": [
        "df.isna().sum()\n",
        "\n",
        "for col in df.columns:\n",
        "  print(col)\n",
        "  print(df[col].isna().sum())\n",
        "  print(\"____________________\")"
      ],
      "metadata": {
        "colab": {
          "base_uri": "https://localhost:8080/"
        },
        "id": "oA3f5j2lx2HT",
        "outputId": "83c16a94-1b18-4950-c2d5-4fcaa97b5259"
      },
      "execution_count": 11,
      "outputs": [
        {
          "output_type": "stream",
          "name": "stdout",
          "text": [
            "Numele, Prenumele\n",
            "0\n",
            "____________________\n",
            "fișa\n",
            "0\n",
            "____________________\n",
            "ESARIC D p\n",
            "46\n",
            "____________________\n",
            "ESARIC D %\n",
            "46\n",
            "____________________\n",
            "ESARIC M p\n",
            "46\n",
            "____________________\n",
            "ESARIC M p%\n",
            "46\n",
            "____________________\n",
            "N/L\n",
            "56\n",
            "____________________\n",
            "Limf\n",
            "57\n",
            "____________________\n",
            "VSH\n",
            "61\n",
            "____________________\n",
            "Alb\n",
            "47\n",
            "____________________\n",
            "Delir Da1/Nu0\n",
            "45\n",
            "____________________\n",
            "Sedare Da1/Nu0\n",
            "45\n",
            "____________________\n",
            "ROX\n",
            "48\n",
            "____________________\n",
            "Sp/Fi\n",
            "50\n",
            "____________________\n",
            "D-dimerii initiere NIV\n",
            "113\n",
            "____________________\n",
            "Scor Brixia\n",
            "13\n",
            "____________________\n",
            "sexul B1/F0\n",
            "0\n",
            "____________________\n",
            "vârsta\n",
            "0\n",
            "____________________\n",
            "VAP (Da1/Nu0)\n",
            "0\n",
            "____________________\n",
            "Traheostomie (DA1/Nu0)\n",
            "0\n",
            "____________________\n",
            "Durata NIV/zile\n",
            "2\n",
            "____________________\n",
            "Prone position (Da1/Nu0)\n",
            "5\n",
            "____________________\n",
            "Decedat (Da1/NU0)\n",
            "0\n",
            "____________________\n",
            "Durata ICU\n",
            "1\n",
            "____________________\n",
            "Durata spitalizare\n",
            "188\n",
            "____________________\n",
            "Diabet zaharat (Da1/Nu0)\n",
            "0\n",
            "____________________\n",
            "HTA Da1/Nu0\n",
            "0\n",
            "____________________\n",
            "Boala renala cronica Da1/Nu0\n",
            "0\n",
            "____________________\n",
            "NFVVC sau HD (Da1/Nu0)\n",
            "0\n",
            "____________________\n",
            "Obezitate Da1/Nu0\n",
            "0\n",
            "____________________\n",
            "Insuf cardiaca Da1/Nu0\n",
            "1\n",
            "____________________\n",
            "NYHA (I-IV)\n",
            "46\n",
            "____________________\n",
            "BPOC Da1/Nu0\n",
            "0\n",
            "____________________\n",
            "ASTM Da1/Nu0\n",
            "3\n",
            "____________________\n",
            "Hipotiroidism Da1/Nu0\n",
            "0\n",
            "____________________\n",
            "Infectie bacteriana pulmonara Da1/Nu0\n",
            "0\n",
            "____________________\n",
            "Soc toxico infectios Da1/Nu0\n",
            "0\n",
            "____________________\n",
            "Alta comorbiditate/patologie Da1/Nu0\n",
            "1\n",
            "____________________\n",
            "Ciroza hepatica Da1/Nu0\n",
            "1\n",
            "____________________\n",
            "Infarct miocardic vechi Da1/Nu0\n",
            "0\n",
            "____________________\n",
            "Nefropatie Diabetica Da1/Nu0\n",
            "0\n",
            "____________________\n",
            "Pancreatita cronica Da1/Nu0\n",
            "0\n",
            "____________________\n",
            "Pancreatita acuta Da1/Nu0\n",
            "0\n",
            "____________________\n",
            "AVC Da1/Nu0\n",
            "0\n",
            "____________________\n",
            "Cancer Da1/Nu0\n",
            "0\n",
            "____________________\n",
            "Miastenia Da1/Nu0\n",
            "0\n",
            "____________________\n",
            "HB initiere NIV\n",
            "3\n",
            "____________________\n",
            "Eritrocite initiere NIV\n",
            "3\n",
            "____________________\n",
            "Trombocite initiere NIV\n",
            "4\n",
            "____________________\n",
            "Leucocite initiere NIV\n",
            "4\n",
            "____________________\n",
            "IP initiere NIV\n",
            "5\n",
            "____________________\n",
            "INR initiere NIV\n",
            "4\n",
            "____________________\n",
            "TTPA initiere NIV\n",
            "4\n",
            "____________________\n",
            "TT initiere NIV\n",
            "4\n",
            "____________________\n",
            "Fibrinogen initiere NIV\n",
            "4\n",
            "____________________\n",
            "PCR initiere NIV\n",
            "11\n",
            "____________________\n",
            "Procalcitonina initiere NIV\n",
            "154\n",
            "____________________\n",
            "Proteina totala initiere NIV\n",
            "4\n",
            "____________________\n",
            "Urea initiere NIV\n",
            "4\n",
            "____________________\n",
            "Creatinina initiere NIV\n",
            "4\n",
            "____________________\n",
            "Bilirubina Totala\n",
            "4\n",
            "____________________\n",
            "Glicemia\n",
            "4\n",
            "____________________\n",
            "ALAT\n",
            "4\n",
            "____________________\n",
            "ASAT\n",
            "4\n",
            "____________________\n"
          ]
        }
      ]
    },
    {
      "cell_type": "code",
      "source": [
        "df.columns"
      ],
      "metadata": {
        "colab": {
          "base_uri": "https://localhost:8080/"
        },
        "id": "JAQorGTr0iF0",
        "outputId": "22657be4-7a58-45d5-99e3-b5dbaf8af8df"
      },
      "execution_count": 12,
      "outputs": [
        {
          "output_type": "execute_result",
          "data": {
            "text/plain": [
              "Index(['Numele, Prenumele', 'fișa', 'ESARIC D p', 'ESARIC D %', 'ESARIC M p',\n",
              "       'ESARIC M p%', 'N/L', 'Limf', 'VSH', 'Alb', 'Delir Da1/Nu0',\n",
              "       'Sedare Da1/Nu0', 'ROX', 'Sp/Fi', 'D-dimerii initiere NIV',\n",
              "       'Scor Brixia', 'sexul B1/F0', 'vârsta', 'VAP (Da1/Nu0)',\n",
              "       'Traheostomie (DA1/Nu0)', 'Durata NIV/zile', 'Prone position (Da1/Nu0)',\n",
              "       'Decedat (Da1/NU0)', 'Durata ICU', 'Durata spitalizare',\n",
              "       'Diabet zaharat (Da1/Nu0)', 'HTA Da1/Nu0',\n",
              "       'Boala renala cronica Da1/Nu0', 'NFVVC sau HD (Da1/Nu0)',\n",
              "       'Obezitate Da1/Nu0', 'Insuf cardiaca Da1/Nu0', 'NYHA (I-IV)',\n",
              "       'BPOC Da1/Nu0', 'ASTM Da1/Nu0', 'Hipotiroidism Da1/Nu0',\n",
              "       'Infectie bacteriana pulmonara Da1/Nu0', 'Soc toxico infectios Da1/Nu0',\n",
              "       'Alta comorbiditate/patologie Da1/Nu0', 'Ciroza hepatica Da1/Nu0',\n",
              "       'Infarct miocardic vechi Da1/Nu0', 'Nefropatie Diabetica Da1/Nu0',\n",
              "       'Pancreatita cronica Da1/Nu0', 'Pancreatita acuta Da1/Nu0',\n",
              "       'AVC Da1/Nu0', 'Cancer Da1/Nu0', 'Miastenia Da1/Nu0', 'HB initiere NIV',\n",
              "       'Eritrocite initiere NIV', 'Trombocite initiere NIV',\n",
              "       'Leucocite initiere NIV', 'IP initiere NIV', 'INR initiere NIV',\n",
              "       'TTPA initiere NIV', 'TT initiere NIV', 'Fibrinogen initiere NIV',\n",
              "       'PCR initiere NIV', 'Procalcitonina initiere NIV',\n",
              "       'Proteina totala initiere NIV', 'Urea initiere NIV',\n",
              "       'Creatinina initiere NIV', 'Bilirubina Totala', 'Glicemia', 'ALAT',\n",
              "       'ASAT'],\n",
              "      dtype='object')"
            ]
          },
          "metadata": {},
          "execution_count": 12
        }
      ]
    },
    {
      "cell_type": "code",
      "source": [
        "df['Decedat (Da1/NU0)'].describe(type='object')"
      ],
      "metadata": {
        "colab": {
          "base_uri": "https://localhost:8080/",
          "height": 176
        },
        "id": "iPZZvBaE05o-",
        "outputId": "e306c840-eb64-4ccf-efb2-25e715147599"
      },
      "execution_count": 16,
      "outputs": [
        {
          "output_type": "error",
          "ename": "TypeError",
          "evalue": "NDFrame.describe() got an unexpected keyword argument 'type'",
          "traceback": [
            "\u001b[0;31m---------------------------------------------------------------------------\u001b[0m",
            "\u001b[0;31mTypeError\u001b[0m                                 Traceback (most recent call last)",
            "\u001b[0;32m<ipython-input-16-bcd46187e554>\u001b[0m in \u001b[0;36m<cell line: 1>\u001b[0;34m()\u001b[0m\n\u001b[0;32m----> 1\u001b[0;31m \u001b[0mdf\u001b[0m\u001b[0;34m[\u001b[0m\u001b[0;34m'Decedat (Da1/NU0)'\u001b[0m\u001b[0;34m]\u001b[0m\u001b[0;34m.\u001b[0m\u001b[0mdescribe\u001b[0m\u001b[0;34m(\u001b[0m\u001b[0mtype\u001b[0m\u001b[0;34m=\u001b[0m\u001b[0;34m'object'\u001b[0m\u001b[0;34m)\u001b[0m\u001b[0;34m\u001b[0m\u001b[0;34m\u001b[0m\u001b[0m\n\u001b[0m",
            "\u001b[0;31mTypeError\u001b[0m: NDFrame.describe() got an unexpected keyword argument 'type'"
          ]
        }
      ]
    },
    {
      "cell_type": "code",
      "source": [
        "df['Decedat (Da1/NU0)'].value_counts(normalize=True)"
      ],
      "metadata": {
        "colab": {
          "base_uri": "https://localhost:8080/"
        },
        "id": "Dp6ylsOy1fuY",
        "outputId": "c67b7842-0da7-4b2b-f678-a1fa20765992"
      },
      "execution_count": 17,
      "outputs": [
        {
          "output_type": "execute_result",
          "data": {
            "text/plain": [
              "0    0.567376\n",
              "1    0.432624\n",
              "Name: Decedat (Da1/NU0), dtype: float64"
            ]
          },
          "metadata": {},
          "execution_count": 17
        }
      ]
    },
    {
      "cell_type": "code",
      "source": [
        "\n",
        "df['VAP (Da1/Nu0)'].value_counts(normalize=True)\n"
      ],
      "metadata": {
        "colab": {
          "base_uri": "https://localhost:8080/"
        },
        "id": "Pa0rtCkr12L5",
        "outputId": "9f974d0f-44ff-468d-d9cb-1d6bd71aa9cc"
      },
      "execution_count": 18,
      "outputs": [
        {
          "output_type": "execute_result",
          "data": {
            "text/plain": [
              "0    0.553191\n",
              "1    0.446809\n",
              "Name: VAP (Da1/Nu0), dtype: float64"
            ]
          },
          "metadata": {},
          "execution_count": 18
        }
      ]
    },
    {
      "cell_type": "code",
      "source": [
        "df[df['VAP (Da1/Nu0)']==1]['Decedat (Da1/NU0)'].value_counts()\n"
      ],
      "metadata": {
        "colab": {
          "base_uri": "https://localhost:8080/"
        },
        "id": "_wJ_d4rV1_ed",
        "outputId": "c69d96e6-3365-405c-f538-f2e113ae0ef0"
      },
      "execution_count": 21,
      "outputs": [
        {
          "output_type": "execute_result",
          "data": {
            "text/plain": [
              "1    178\n",
              "0     11\n",
              "Name: Decedat (Da1/NU0), dtype: int64"
            ]
          },
          "metadata": {},
          "execution_count": 21
        }
      ]
    },
    {
      "cell_type": "markdown",
      "source": [
        "# Hypothesis\n",
        "\n",
        "1. Cohort characteristics\n",
        "2. Comparative evaluation among VAP positive and negative\n",
        "3. Comparative evaluation among Death positive and negative\n",
        "4. Correlations for VAP positive and negative\n",
        "5. Correlations for Death positive and negative\n",
        "6. ML models for VAP and Death\n",
        "\n"
      ],
      "metadata": {
        "id": "zmCYU2y-2vz1"
      }
    }
  ]
}